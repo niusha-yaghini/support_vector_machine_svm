{
 "cells": [
  {
   "cell_type": "code",
   "execution_count": 48,
   "metadata": {},
   "outputs": [],
   "source": [
    "# import pandas as pd\n",
    "# from sklearn import svm\n",
    "# from sklearn.model_selection import GridSearchCV\n",
    "# import os\n",
    "# import matplotlib.pyplot as plt\n",
    "# from skimage.transform import resize\n",
    "# from skimage.io import imread\n",
    "import numpy as np\n",
    "from sklearn.model_selection import train_test_split\n",
    "from sklearn.metrics import classification_report, confusion_matrix\n",
    "import itertools\n",
    "# from sklearn.metrics import classification_report,accuracy_score,confusion_matrix\n",
    "# import pickle\n",
    "import random\n",
    "import matplotlib.pyplot as plt\n",
    "from sklearn import svm\n"
   ]
  },
  {
   "attachments": {},
   "cell_type": "markdown",
   "metadata": {},
   "source": [
    "Making points"
   ]
  },
  {
   "cell_type": "code",
   "execution_count": 49,
   "metadata": {},
   "outputs": [
    {
     "data": {
      "image/png": "[encoded data removed]",
      "text/plain": [
       "<Figure size 640x480 with 1 Axes>"
      ]
     },
     "metadata": {},
     "output_type": "display_data"
    }
   ],
   "source": [
    "def points(domain):\n",
    "    x1 = [random.randint(0,4) for _ in range(domain)]\n",
    "    x2 = [random.randint(6,10) for _ in range(domain)]\n",
    "    y1 = [random.randint(0,10) for _ in range(domain)]\n",
    "    y2 = [random.randint(0,10) for _ in range(domain)]\n",
    "    \n",
    "    return x1, x2, y1, y2\n",
    "\n",
    "domain = 50\n",
    "x1, x2, y1, y2 = points(domain)\n",
    "\n",
    "X = []\n",
    "Y = []\n",
    "\n",
    "f = open('my_points.txt', 'w')\n",
    "f.write('x, y, class\\n')\n",
    "\n",
    "for i in range(domain):\n",
    "    f.write(f\"{x1[i]}, {y1[i]}, 0\\n\")\n",
    "    X.append([x1[i], y1[i]])\n",
    "    Y.append(0)\n",
    "\n",
    "for i in range(domain):\n",
    "    f.write(f\"{x2[i]}, {y2[i]}, 1\\n\")\n",
    "    X.append([x2[i], y2[i]])\n",
    "    Y.append(1)\n",
    "\n",
    "f.close() \n",
    "\n",
    "fig, ax = plt.subplots()\n",
    "\n",
    "\n",
    "y1_draw, = plt.plot(x1, y1, 'o', color='green', label='class1')\n",
    "y2_draw, = plt.plot(x2, y2, 'o', color='red', label='class2')\n",
    "\n",
    "ax.set_title('random 2 categories points')\n",
    "\n",
    "ax.legend(handles=[y1_draw, y2_draw])\n",
    "name = \"part1_points\" + '.png'\n",
    "\n",
    "plt.savefig(name)\n",
    "plt.show()"
   ]
  },
  {
   "cell_type": "code",
   "execution_count": 50,
   "metadata": {},
   "outputs": [],
   "source": [
    "X = np.asarray(X)\n",
    "Y = np.asarray(Y)"
   ]
  },
  {
   "attachments": {},
   "cell_type": "markdown",
   "metadata": {},
   "source": [
    "Train & Test "
   ]
  },
  {
   "cell_type": "code",
   "execution_count": 51,
   "metadata": {},
   "outputs": [
    {
     "name": "stdout",
     "output_type": "stream",
     "text": [
      "Train set: (80, 2) (80,)\n",
      "Test set: (20, 2) (20,)\n"
     ]
    }
   ],
   "source": [
    "X_train, X_test, y_train, y_test = train_test_split( X, Y, test_size=0.2, random_state=4)\n",
    "print ('Train set:', X_train.shape,  y_train.shape)\n",
    "print ('Test set:', X_test.shape,  y_test.shape)"
   ]
  },
  {
   "attachments": {},
   "cell_type": "markdown",
   "metadata": {},
   "source": [
    "Modeling"
   ]
  },
  {
   "cell_type": "code",
   "execution_count": 52,
   "metadata": {},
   "outputs": [
    {
     "data": {
      "text/html": [
       "<style>#sk-container-id-10 {color: black;background-color: white;}#sk-container-id-10 pre{padding: 0;}#sk-container-id-10 div.sk-toggleable {background-color: white;}#sk-container-id-10 label.sk-toggleable__label {cursor: pointer;display: block;width: 100%;margin-bottom: 0;padding: 0.3em;box-sizing: border-box;text-align: center;}#sk-container-id-10 label.sk-toggleable__label-arrow:before {content: \"▸\";float: left;margin-right: 0.25em;color: #696969;}#sk-container-id-10 label.sk-toggleable__label-arrow:hover:before {color: black;}#sk-container-id-10 div.sk-estimator:hover label.sk-toggleable__label-arrow:before {color: black;}#sk-container-id-10 div.sk-toggleable__content {max-height: 0;max-width: 0;overflow: hidden;text-align: left;background-color: #f0f8ff;}#sk-container-id-10 div.sk-toggleable__content pre {margin: 0.2em;color: black;border-radius: 0.25em;background-color: #f0f8ff;}#sk-container-id-10 input.sk-toggleable__control:checked~div.sk-toggleable__content {max-height: 200px;max-width: 100%;overflow: auto;}#sk-container-id-10 input.sk-toggleable__control:checked~label.sk-toggleable__label-arrow:before {content: \"▾\";}#sk-container-id-10 div.sk-estimator input.sk-toggleable__control:checked~label.sk-toggleable__label {background-color: #d4ebff;}#sk-container-id-10 div.sk-label input.sk-toggleable__control:checked~label.sk-toggleable__label {background-color: #d4ebff;}#sk-container-id-10 input.sk-hidden--visually {border: 0;clip: rect(1px 1px 1px 1px);clip: rect(1px, 1px, 1px, 1px);height: 1px;margin: -1px;overflow: hidden;padding: 0;position: absolute;width: 1px;}#sk-container-id-10 div.sk-estimator {font-family: monospace;background-color: #f0f8ff;border: 1px dotted black;border-radius: 0.25em;box-sizing: border-box;margin-bottom: 0.5em;}#sk-container-id-10 div.sk-estimator:hover {background-color: #d4ebff;}#sk-container-id-10 div.sk-parallel-item::after {content: \"\";width: 100%;border-bottom: 1px solid gray;flex-grow: 1;}#sk-container-id-10 div.sk-label:hover label.sk-toggleable__label {background-color: #d4ebff;}#sk-container-id-10 div.sk-serial::before {content: \"\";position: absolute;border-left: 1px solid gray;box-sizing: border-box;top: 0;bottom: 0;left: 50%;z-index: 0;}#sk-container-id-10 div.sk-serial {display: flex;flex-direction: column;align-items: center;background-color: white;padding-right: 0.2em;padding-left: 0.2em;position: relative;}#sk-container-id-10 div.sk-item {position: relative;z-index: 1;}#sk-container-id-10 div.sk-parallel {display: flex;align-items: stretch;justify-content: center;background-color: white;position: relative;}#sk-container-id-10 div.sk-item::before, #sk-container-id-10 div.sk-parallel-item::before {content: \"\";position: absolute;border-left: 1px solid gray;box-sizing: border-box;top: 0;bottom: 0;left: 50%;z-index: -1;}#sk-container-id-10 div.sk-parallel-item {display: flex;flex-direction: column;z-index: 1;position: relative;background-color: white;}#sk-container-id-10 div.sk-parallel-item:first-child::after {align-self: flex-end;width: 50%;}#sk-container-id-10 div.sk-parallel-item:last-child::after {align-self: flex-start;width: 50%;}#sk-container-id-10 div.sk-parallel-item:only-child::after {width: 0;}#sk-container-id-10 div.sk-dashed-wrapped {border: 1px dashed gray;margin: 0 0.4em 0.5em 0.4em;box-sizing: border-box;padding-bottom: 0.4em;background-color: white;}#sk-container-id-10 div.sk-label label {font-family: monospace;font-weight: bold;display: inline-block;line-height: 1.2em;}#sk-container-id-10 div.sk-label-container {text-align: center;}#sk-container-id-10 div.sk-container {/* jupyter's `normalize.less` sets `[hidden] { display: none; }` but bootstrap.min.css set `[hidden] { display: none !important; }` so we also need the `!important` here to be able to override the default hidden behavior on the sphinx rendered scikit-learn.org. See: https://github.com/scikit-learn/scikit-learn/issues/21755 */display: inline-block !important;position: relative;}#sk-container-id-10 div.sk-text-repr-fallback {display: none;}</style><div id=\"sk-container-id-10\" class=\"sk-top-container\"><div class=\"sk-text-repr-fallback\"><pre>SVC()</pre><b>In a Jupyter environment, please rerun this cell to show the HTML representation or trust the notebook. <br />On GitHub, the HTML representation is unable to render, please try loading this page with nbviewer.org.</b></div><div class=\"sk-container\" hidden><div class=\"sk-item\"><div class=\"sk-estimator sk-toggleable\"><input class=\"sk-toggleable__control sk-hidden--visually\" id=\"sk-estimator-id-10\" type=\"checkbox\" checked><label for=\"sk-estimator-id-10\" class=\"sk-toggleable__label sk-toggleable__label-arrow\">SVC</label><div class=\"sk-toggleable__content\"><pre>SVC()</pre></div></div></div></div></div>"
      ],
      "text/plain": [
       "SVC()"
      ]
     },
     "execution_count": 52,
     "metadata": {},
     "output_type": "execute_result"
    }
   ],
   "source": [
    "clf = svm.SVC(kernel='rbf')\n",
    "clf.fit(X_train, y_train)"
   ]
  },
  {
   "attachments": {},
   "cell_type": "markdown",
   "metadata": {},
   "source": [
    "Predicting"
   ]
  },
  {
   "cell_type": "code",
   "execution_count": 53,
   "metadata": {},
   "outputs": [
    {
     "data": {
      "text/plain": [
       "array([0, 0, 1, 0, 1, 0, 1, 1, 0, 0, 0, 0, 1, 0, 0, 0, 0, 0, 0, 1])"
      ]
     },
     "execution_count": 53,
     "metadata": {},
     "output_type": "execute_result"
    }
   ],
   "source": [
    "yhat = clf.predict(X_test)\n",
    "yhat"
   ]
  },
  {
   "attachments": {},
   "cell_type": "markdown",
   "metadata": {},
   "source": [
    "Evaluation"
   ]
  },
  {
   "cell_type": "code",
   "execution_count": 54,
   "metadata": {},
   "outputs": [],
   "source": [
    "def plot_confusion_matrix(cm, classes,\n",
    "                          normalize=False,\n",
    "                          title='Confusion matrix',\n",
    "                          cmap=plt.cm.Blues):\n",
    "    \"\"\"\n",
    "    This function prints and plots the confusion matrix.\n",
    "    Normalization can be applied by setting `normalize=True`.\n",
    "    \"\"\"\n",
    "    if normalize:\n",
    "        cm = cm.astype('float') / cm.sum(axis=1)[:, np.newaxis]\n",
    "        print(\"Normalized confusion matrix\")\n",
    "    else:\n",
    "        print('Confusion matrix, without normalization')\n",
    "\n",
    "    print(cm)\n",
    "\n",
    "    plt.imshow(cm, interpolation='nearest', cmap=cmap)\n",
    "    plt.title(title)\n",
    "    plt.colorbar()\n",
    "    tick_marks = np.arange(len(classes))\n",
    "    plt.xticks(tick_marks, classes, rotation=45)\n",
    "    plt.yticks(tick_marks, classes)\n",
    "\n",
    "    fmt = '.2f' if normalize else 'd'\n",
    "    thresh = cm.max() / 2.\n",
    "    for i, j in itertools.product(range(cm.shape[0]), range(cm.shape[1])):\n",
    "        plt.text(j, i, format(cm[i, j], fmt),\n",
    "                 horizontalalignment=\"center\",\n",
    "                 color=\"white\" if cm[i, j] > thresh else \"black\")\n",
    "\n",
    "    plt.tight_layout()\n",
    "    plt.ylabel('True label')\n",
    "    plt.xlabel('Predicted label')"
   ]
  },
  {
   "cell_type": "code",
   "execution_count": 55,
   "metadata": {},
   "outputs": [
    {
     "name": "stdout",
     "output_type": "stream",
     "text": [
      "              precision    recall  f1-score   support\n",
      "\n",
      "           0       1.00      1.00      1.00        14\n",
      "           1       1.00      1.00      1.00         6\n",
      "\n",
      "    accuracy                           1.00        20\n",
      "   macro avg       1.00      1.00      1.00        20\n",
      "weighted avg       1.00      1.00      1.00        20\n",
      "\n",
      "Confusion matrix, without normalization\n",
      "[[14  0]\n",
      " [ 0  6]]\n"
     ]
    },
    {
     "data": {
      "image/png": "[encoded data removed]",
      "text/plain": [
       "<Figure size 640x480 with 2 Axes>"
      ]
     },
     "metadata": {},
     "output_type": "display_data"
    }
   ],
   "source": [
    "# Compute confusion matrix\n",
    "cnf_matrix = confusion_matrix(y_test, yhat, labels=[0,1])\n",
    "np.set_printoptions(precision=2)\n",
    "\n",
    "print(classification_report(y_test, yhat))\n",
    "\n",
    "# Plot non-normalized confusion matrix\n",
    "plt.figure()\n",
    "plot_confusion_matrix(cnf_matrix, classes=['class1', 'class2'], normalize= False, title='Confusion matrix')"
   ]
  },
  {
   "cell_type": "code",
   "execution_count": 56,
   "metadata": {},
   "outputs": [
    {
     "data": {
      "image/png": "[encoded data removed]",
      "text/plain": [
       "<Figure size 640x480 with 1 Axes>"
      ]
     },
     "metadata": {},
     "output_type": "display_data"
    }
   ],
   "source": [
    "# Obtain the support vectors and dual coefficients\n",
    "support_vectors = clf.support_vectors_\n",
    "dual_coef = clf.dual_coef_\n",
    "\n",
    "# Calculate the margin using the norm of the support vectors and dual coefficients\n",
    "margin = 2 / np.sqrt(np.sum(dual_coef ** 2))\n",
    "\n",
    "# Create a meshgrid to plot the decision boundary\n",
    "xx, yy = np.meshgrid(np.linspace(X[:, 0].min() - 1, X[:, 0].max() + 1, 100),\n",
    "                     np.linspace(X[:, 1].min() - 1, X[:, 1].max() + 1, 100))\n",
    "Z = clf.predict(np.c_[xx.ravel(), yy.ravel()])\n",
    "Z = Z.reshape(xx.shape)\n",
    "\n",
    "# Plot the decision boundary and margin\n",
    "plt.contourf(xx, yy, Z, cmap=plt.cm.RdBu, alpha=0.6)\n",
    "plt.scatter(X[:, 0], X[:, 1], c=Y, cmap=plt.cm.RdBu)\n",
    "plt.scatter(support_vectors[:, 0], support_vectors[:, 1], s=100,\n",
    "            linewidth=1, facecolors='none', edgecolors='k')\n",
    "plt.xlim(xx.min(), xx.max())\n",
    "plt.ylim(yy.min(), yy.max())\n",
    "plt.xlabel('Feature 1')\n",
    "plt.ylabel('Feature 2')\n",
    "plt.title(f\"SVM with {clf.kernel} kernel and margin={margin:.2f}\")\n",
    "plt.show()"
   ]
  },
  {
   "cell_type": "code",
   "execution_count": 2,
   "metadata": {},
   "outputs": [],
   "source": [
    "Categories=['2','3','7', 'S', 'W']"
   ]
  },
  {
   "cell_type": "code",
   "execution_count": 3,
   "metadata": {},
   "outputs": [
    {
     "name": "stdout",
     "output_type": "stream",
     "text": [
      "loading... category : 2\n",
      "loaded category:2 successfully\n",
      "loading... category : 3\n",
      "loaded category:3 successfully\n",
      "loading... category : 7\n",
      "loaded category:7 successfully\n",
      "loading... category : S\n",
      "loaded category:S successfully\n",
      "loading... category : W\n",
      "loaded category:W successfully\n"
     ]
    },
    {
     "data": {
      "text/html": [
       "<div>\n",
       "<style scoped>\n",
       "    .dataframe tbody tr th:only-of-type {\n",
       "        vertical-align: middle;\n",
       "    }\n",
       "\n",
       "    .dataframe tbody tr th {\n",
       "        vertical-align: top;\n",
       "    }\n",
       "\n",
       "    .dataframe thead th {\n",
       "        text-align: right;\n",
       "    }\n",
       "</style>\n",
       "<table border=\"1\" class=\"dataframe\">\n",
       "  <thead>\n",
       "    <tr style=\"text-align: right;\">\n",
       "      <th></th>\n",
       "      <th>0</th>\n",
       "      <th>1</th>\n",
       "      <th>2</th>\n",
       "      <th>3</th>\n",
       "      <th>4</th>\n",
       "      <th>5</th>\n",
       "      <th>6</th>\n",
       "      <th>7</th>\n",
       "      <th>8</th>\n",
       "      <th>9</th>\n",
       "      <th>...</th>\n",
       "      <th>67491</th>\n",
       "      <th>67492</th>\n",
       "      <th>67493</th>\n",
       "      <th>67494</th>\n",
       "      <th>67495</th>\n",
       "      <th>67496</th>\n",
       "      <th>67497</th>\n",
       "      <th>67498</th>\n",
       "      <th>67499</th>\n",
       "      <th>Target</th>\n",
       "    </tr>\n",
       "  </thead>\n",
       "  <tbody>\n",
       "    <tr>\n",
       "      <th>0</th>\n",
       "      <td>0.344857</td>\n",
       "      <td>0.344857</td>\n",
       "      <td>0.344857</td>\n",
       "      <td>0.343042</td>\n",
       "      <td>0.343042</td>\n",
       "      <td>0.343042</td>\n",
       "      <td>0.341226</td>\n",
       "      <td>0.341226</td>\n",
       "      <td>0.341226</td>\n",
       "      <td>0.339411</td>\n",
       "      <td>...</td>\n",
       "      <td>0.141937</td>\n",
       "      <td>0.141937</td>\n",
       "      <td>0.141937</td>\n",
       "      <td>0.134266</td>\n",
       "      <td>0.134266</td>\n",
       "      <td>0.134266</td>\n",
       "      <td>0.126594</td>\n",
       "      <td>0.126594</td>\n",
       "      <td>0.126594</td>\n",
       "      <td>0</td>\n",
       "    </tr>\n",
       "    <tr>\n",
       "      <th>1</th>\n",
       "      <td>0.394462</td>\n",
       "      <td>0.394462</td>\n",
       "      <td>0.394462</td>\n",
       "      <td>0.386444</td>\n",
       "      <td>0.386444</td>\n",
       "      <td>0.386444</td>\n",
       "      <td>0.378427</td>\n",
       "      <td>0.378427</td>\n",
       "      <td>0.378427</td>\n",
       "      <td>0.370410</td>\n",
       "      <td>...</td>\n",
       "      <td>0.036801</td>\n",
       "      <td>0.036801</td>\n",
       "      <td>0.036801</td>\n",
       "      <td>0.035315</td>\n",
       "      <td>0.035315</td>\n",
       "      <td>0.035315</td>\n",
       "      <td>0.033828</td>\n",
       "      <td>0.033828</td>\n",
       "      <td>0.033828</td>\n",
       "      <td>0</td>\n",
       "    </tr>\n",
       "    <tr>\n",
       "      <th>2</th>\n",
       "      <td>0.350315</td>\n",
       "      <td>0.350315</td>\n",
       "      <td>0.350315</td>\n",
       "      <td>0.346578</td>\n",
       "      <td>0.346578</td>\n",
       "      <td>0.346578</td>\n",
       "      <td>0.342841</td>\n",
       "      <td>0.342841</td>\n",
       "      <td>0.342841</td>\n",
       "      <td>0.339104</td>\n",
       "      <td>...</td>\n",
       "      <td>0.195019</td>\n",
       "      <td>0.195019</td>\n",
       "      <td>0.195019</td>\n",
       "      <td>0.196781</td>\n",
       "      <td>0.196781</td>\n",
       "      <td>0.196781</td>\n",
       "      <td>0.198544</td>\n",
       "      <td>0.198544</td>\n",
       "      <td>0.198544</td>\n",
       "      <td>0</td>\n",
       "    </tr>\n",
       "    <tr>\n",
       "      <th>3</th>\n",
       "      <td>0.242188</td>\n",
       "      <td>0.242188</td>\n",
       "      <td>0.242188</td>\n",
       "      <td>0.240186</td>\n",
       "      <td>0.240186</td>\n",
       "      <td>0.240186</td>\n",
       "      <td>0.238184</td>\n",
       "      <td>0.238184</td>\n",
       "      <td>0.238184</td>\n",
       "      <td>0.236182</td>\n",
       "      <td>...</td>\n",
       "      <td>0.247299</td>\n",
       "      <td>0.247299</td>\n",
       "      <td>0.247299</td>\n",
       "      <td>0.247852</td>\n",
       "      <td>0.247852</td>\n",
       "      <td>0.247852</td>\n",
       "      <td>0.248404</td>\n",
       "      <td>0.248404</td>\n",
       "      <td>0.248404</td>\n",
       "      <td>0</td>\n",
       "    </tr>\n",
       "    <tr>\n",
       "      <th>4</th>\n",
       "      <td>0.382394</td>\n",
       "      <td>0.382394</td>\n",
       "      <td>0.382394</td>\n",
       "      <td>0.380018</td>\n",
       "      <td>0.380018</td>\n",
       "      <td>0.380018</td>\n",
       "      <td>0.377642</td>\n",
       "      <td>0.377642</td>\n",
       "      <td>0.377642</td>\n",
       "      <td>0.375266</td>\n",
       "      <td>...</td>\n",
       "      <td>0.222225</td>\n",
       "      <td>0.222225</td>\n",
       "      <td>0.222225</td>\n",
       "      <td>0.222919</td>\n",
       "      <td>0.222919</td>\n",
       "      <td>0.222919</td>\n",
       "      <td>0.223614</td>\n",
       "      <td>0.223614</td>\n",
       "      <td>0.223614</td>\n",
       "      <td>0</td>\n",
       "    </tr>\n",
       "    <tr>\n",
       "      <th>...</th>\n",
       "      <td>...</td>\n",
       "      <td>...</td>\n",
       "      <td>...</td>\n",
       "      <td>...</td>\n",
       "      <td>...</td>\n",
       "      <td>...</td>\n",
       "      <td>...</td>\n",
       "      <td>...</td>\n",
       "      <td>...</td>\n",
       "      <td>...</td>\n",
       "      <td>...</td>\n",
       "      <td>...</td>\n",
       "      <td>...</td>\n",
       "      <td>...</td>\n",
       "      <td>...</td>\n",
       "      <td>...</td>\n",
       "      <td>...</td>\n",
       "      <td>...</td>\n",
       "      <td>...</td>\n",
       "      <td>...</td>\n",
       "      <td>...</td>\n",
       "    </tr>\n",
       "    <tr>\n",
       "      <th>1495</th>\n",
       "      <td>0.092700</td>\n",
       "      <td>0.092700</td>\n",
       "      <td>0.092700</td>\n",
       "      <td>0.092140</td>\n",
       "      <td>0.092140</td>\n",
       "      <td>0.092140</td>\n",
       "      <td>0.091579</td>\n",
       "      <td>0.091579</td>\n",
       "      <td>0.091579</td>\n",
       "      <td>0.091019</td>\n",
       "      <td>...</td>\n",
       "      <td>0.070257</td>\n",
       "      <td>0.070257</td>\n",
       "      <td>0.070257</td>\n",
       "      <td>0.072125</td>\n",
       "      <td>0.072125</td>\n",
       "      <td>0.072125</td>\n",
       "      <td>0.073994</td>\n",
       "      <td>0.073994</td>\n",
       "      <td>0.073994</td>\n",
       "      <td>4</td>\n",
       "    </tr>\n",
       "    <tr>\n",
       "      <th>1496</th>\n",
       "      <td>0.162694</td>\n",
       "      <td>0.162694</td>\n",
       "      <td>0.162694</td>\n",
       "      <td>0.160265</td>\n",
       "      <td>0.160265</td>\n",
       "      <td>0.160265</td>\n",
       "      <td>0.157836</td>\n",
       "      <td>0.157836</td>\n",
       "      <td>0.157836</td>\n",
       "      <td>0.155407</td>\n",
       "      <td>...</td>\n",
       "      <td>0.180268</td>\n",
       "      <td>0.180268</td>\n",
       "      <td>0.180268</td>\n",
       "      <td>0.183988</td>\n",
       "      <td>0.183988</td>\n",
       "      <td>0.183988</td>\n",
       "      <td>0.187709</td>\n",
       "      <td>0.187709</td>\n",
       "      <td>0.187709</td>\n",
       "      <td>4</td>\n",
       "    </tr>\n",
       "    <tr>\n",
       "      <th>1497</th>\n",
       "      <td>0.176437</td>\n",
       "      <td>0.176437</td>\n",
       "      <td>0.176437</td>\n",
       "      <td>0.179454</td>\n",
       "      <td>0.179454</td>\n",
       "      <td>0.179454</td>\n",
       "      <td>0.182471</td>\n",
       "      <td>0.182471</td>\n",
       "      <td>0.182471</td>\n",
       "      <td>0.185489</td>\n",
       "      <td>...</td>\n",
       "      <td>0.181248</td>\n",
       "      <td>0.181248</td>\n",
       "      <td>0.181248</td>\n",
       "      <td>0.180038</td>\n",
       "      <td>0.180038</td>\n",
       "      <td>0.180038</td>\n",
       "      <td>0.178827</td>\n",
       "      <td>0.178827</td>\n",
       "      <td>0.178827</td>\n",
       "      <td>4</td>\n",
       "    </tr>\n",
       "    <tr>\n",
       "      <th>1498</th>\n",
       "      <td>0.071503</td>\n",
       "      <td>0.071503</td>\n",
       "      <td>0.071503</td>\n",
       "      <td>0.071503</td>\n",
       "      <td>0.071503</td>\n",
       "      <td>0.071503</td>\n",
       "      <td>0.071503</td>\n",
       "      <td>0.071503</td>\n",
       "      <td>0.071503</td>\n",
       "      <td>0.071503</td>\n",
       "      <td>...</td>\n",
       "      <td>0.086060</td>\n",
       "      <td>0.086060</td>\n",
       "      <td>0.086060</td>\n",
       "      <td>0.087181</td>\n",
       "      <td>0.087181</td>\n",
       "      <td>0.087181</td>\n",
       "      <td>0.088302</td>\n",
       "      <td>0.088302</td>\n",
       "      <td>0.088302</td>\n",
       "      <td>4</td>\n",
       "    </tr>\n",
       "    <tr>\n",
       "      <th>1499</th>\n",
       "      <td>0.134341</td>\n",
       "      <td>0.134341</td>\n",
       "      <td>0.134341</td>\n",
       "      <td>0.126109</td>\n",
       "      <td>0.126109</td>\n",
       "      <td>0.126109</td>\n",
       "      <td>0.117877</td>\n",
       "      <td>0.117877</td>\n",
       "      <td>0.117877</td>\n",
       "      <td>0.109645</td>\n",
       "      <td>...</td>\n",
       "      <td>0.008758</td>\n",
       "      <td>0.008758</td>\n",
       "      <td>0.008758</td>\n",
       "      <td>0.008758</td>\n",
       "      <td>0.008758</td>\n",
       "      <td>0.008758</td>\n",
       "      <td>0.008758</td>\n",
       "      <td>0.008758</td>\n",
       "      <td>0.008758</td>\n",
       "      <td>4</td>\n",
       "    </tr>\n",
       "  </tbody>\n",
       "</table>\n",
       "<p>1500 rows × 67501 columns</p>\n",
       "</div>"
      ],
      "text/plain": [
       "             0         1         2         3         4         5         6  \\\n",
       "0     0.344857  0.344857  0.344857  0.343042  0.343042  0.343042  0.341226   \n",
       "1     0.394462  0.394462  0.394462  0.386444  0.386444  0.386444  0.378427   \n",
       "2     0.350315  0.350315  0.350315  0.346578  0.346578  0.346578  0.342841   \n",
       "3     0.242188  0.242188  0.242188  0.240186  0.240186  0.240186  0.238184   \n",
       "4     0.382394  0.382394  0.382394  0.380018  0.380018  0.380018  0.377642   \n",
       "...        ...       ...       ...       ...       ...       ...       ...   \n",
       "1495  0.092700  0.092700  0.092700  0.092140  0.092140  0.092140  0.091579   \n",
       "1496  0.162694  0.162694  0.162694  0.160265  0.160265  0.160265  0.157836   \n",
       "1497  0.176437  0.176437  0.176437  0.179454  0.179454  0.179454  0.182471   \n",
       "1498  0.071503  0.071503  0.071503  0.071503  0.071503  0.071503  0.071503   \n",
       "1499  0.134341  0.134341  0.134341  0.126109  0.126109  0.126109  0.117877   \n",
       "\n",
       "             7         8         9  ...     67491     67492     67493  \\\n",
       "0     0.341226  0.341226  0.339411  ...  0.141937  0.141937  0.141937   \n",
       "1     0.378427  0.378427  0.370410  ...  0.036801  0.036801  0.036801   \n",
       "2     0.342841  0.342841  0.339104  ...  0.195019  0.195019  0.195019   \n",
       "3     0.238184  0.238184  0.236182  ...  0.247299  0.247299  0.247299   \n",
       "4     0.377642  0.377642  0.375266  ...  0.222225  0.222225  0.222225   \n",
       "...        ...       ...       ...  ...       ...       ...       ...   \n",
       "1495  0.091579  0.091579  0.091019  ...  0.070257  0.070257  0.070257   \n",
       "1496  0.157836  0.157836  0.155407  ...  0.180268  0.180268  0.180268   \n",
       "1497  0.182471  0.182471  0.185489  ...  0.181248  0.181248  0.181248   \n",
       "1498  0.071503  0.071503  0.071503  ...  0.086060  0.086060  0.086060   \n",
       "1499  0.117877  0.117877  0.109645  ...  0.008758  0.008758  0.008758   \n",
       "\n",
       "         67494     67495     67496     67497     67498     67499  Target  \n",
       "0     0.134266  0.134266  0.134266  0.126594  0.126594  0.126594       0  \n",
       "1     0.035315  0.035315  0.035315  0.033828  0.033828  0.033828       0  \n",
       "2     0.196781  0.196781  0.196781  0.198544  0.198544  0.198544       0  \n",
       "3     0.247852  0.247852  0.247852  0.248404  0.248404  0.248404       0  \n",
       "4     0.222919  0.222919  0.222919  0.223614  0.223614  0.223614       0  \n",
       "...        ...       ...       ...       ...       ...       ...     ...  \n",
       "1495  0.072125  0.072125  0.072125  0.073994  0.073994  0.073994       4  \n",
       "1496  0.183988  0.183988  0.183988  0.187709  0.187709  0.187709       4  \n",
       "1497  0.180038  0.180038  0.180038  0.178827  0.178827  0.178827       4  \n",
       "1498  0.087181  0.087181  0.087181  0.088302  0.088302  0.088302       4  \n",
       "1499  0.008758  0.008758  0.008758  0.008758  0.008758  0.008758       4  \n",
       "\n",
       "[1500 rows x 67501 columns]"
      ]
     },
     "execution_count": 3,
     "metadata": {},
     "output_type": "execute_result"
    }
   ],
   "source": [
    "flat_data_arr=[]\n",
    "target_arr=[]\n",
    "\n",
    "datadir='.\\\\persian_LPR'\n",
    "for i in Categories:\n",
    "    print(f'loading... category : {i}')\n",
    "    path = os.path.join(datadir, i)\n",
    "    for img in os.listdir(path):\n",
    "        img_array = imread(os.path.join(path,img))\n",
    "        img_resized = resize(img_array,(150,150,3))\n",
    "        flat_data_arr.append(img_resized.flatten())\n",
    "        target_arr.append(Categories.index(i))\n",
    "    print(f'loaded category:{i} successfully')\n",
    "flat_data = np.array(flat_data_arr)\n",
    "target = np.array(target_arr)\n",
    "df = pd.DataFrame(flat_data)\n",
    "df['Target']=target\n",
    "df"
   ]
  },
  {
   "cell_type": "code",
   "execution_count": 5,
   "metadata": {},
   "outputs": [
    {
     "name": "stdout",
     "output_type": "stream",
     "text": [
      "Train set: (1200, 67500) (1200,)\n",
      "Test set: (300, 67500) (300,)\n",
      "Splitted Successfully\n"
     ]
    }
   ],
   "source": [
    "x = df.iloc[:,:-1]\n",
    "y = df.iloc[:,-1]\n",
    "x_train,x_test,y_train,y_test=train_test_split(x,y,test_size=0.20,random_state=77,stratify=y)\n",
    "print ('Train set:', x_train.shape,  y_train.shape)\n",
    "print ('Test set:', x_test.shape,  y_test.shape)\n",
    "print('Splitted Successfully')"
   ]
  },
  {
   "cell_type": "code",
   "execution_count": 6,
   "metadata": {},
   "outputs": [
    {
     "data": {
      "text/plain": [
       "array([2, 0, 2, 3, 3])"
      ]
     },
     "execution_count": 6,
     "metadata": {},
     "output_type": "execute_result"
    }
   ],
   "source": [
    "clf = svm.SVC(kernel='linear')\n",
    "clf.fit(x_train, y_train)\n",
    "\n",
    "yhat = clf.predict(x_test)\n",
    "yhat [0:5]"
   ]
  },
  {
   "cell_type": "code",
   "execution_count": 8,
   "metadata": {},
   "outputs": [],
   "source": [
    "def plot_confusion_matrix(cm, classes,\n",
    "                          normalize = True,\n",
    "                          title = 'Confusion matrix',\n",
    "                          cmap = plt.cm.Blues):\n",
    "    \n",
    "    print(cm)\n",
    "\n",
    "    plt.imshow(cm, interpolation = 'nearest', cmap = cmap)\n",
    "    plt.title(title)\n",
    "    plt.colorbar()\n",
    "    tick_marks = np.arange(len(classes))\n",
    "    plt.xticks(tick_marks, classes, rotation = 45)\n",
    "    plt.yticks(tick_marks, classes)\n",
    "\n",
    "    fmt = '.2f' if normalize else 'd'\n",
    "    thresh = cm.max() / 2.\n",
    "    for i, j in itertools.product(range(cm.shape[0]), range(cm.shape[1])):\n",
    "        plt.text(j, i, format(cm[i, j], fmt),\n",
    "                 horizontalalignment = \"center\",\n",
    "                 color = \"white\" if cm[i, j] > thresh else \"black\")\n",
    "\n",
    "    plt.tight_layout()\n",
    "    plt.ylabel('True label')\n",
    "    plt.xlabel('Predicted label')"
   ]
  },
  {
   "cell_type": "code",
   "execution_count": 10,
   "metadata": {},
   "outputs": [
    {
     "name": "stdout",
     "output_type": "stream",
     "text": [
      "              precision    recall  f1-score   support\n",
      "\n",
      "           0       1.00      0.88      0.94        60\n",
      "           1       0.94      1.00      0.97        60\n",
      "           2       0.95      1.00      0.98        60\n",
      "           3       0.93      0.87      0.90        60\n",
      "           4       0.88      0.93      0.90        60\n",
      "\n",
      "    accuracy                           0.94       300\n",
      "   macro avg       0.94      0.94      0.94       300\n",
      "weighted avg       0.94      0.94      0.94       300\n",
      "\n",
      "[[53  4  3  0  0]\n",
      " [ 0 60  0  0  0]\n",
      " [ 0  0 60  0  0]\n",
      " [ 0  0  0 52  8]\n",
      " [ 0  0  0  4 56]]\n"
     ]
    },
    {
     "ename": "NameError",
     "evalue": "name 'itertools' is not defined",
     "output_type": "error",
     "traceback": [
      "\u001b[1;31m---------------------------------------------------------------------------\u001b[0m",
      "\u001b[1;31mNameError\u001b[0m                                 Traceback (most recent call last)",
      "Cell \u001b[1;32mIn[10], line 7\u001b[0m\n\u001b[0;32m      5\u001b[0m \u001b[39mprint\u001b[39m (classification_report(y_test, yhat))\n\u001b[0;32m      6\u001b[0m plt\u001b[39m.\u001b[39mfigure()\n\u001b[1;32m----> 7\u001b[0m plot_confusion_matrix(cnf_matrix, classes\u001b[39m=\u001b[39;49m[\u001b[39m'\u001b[39;49m\u001b[39mBenign(2)\u001b[39;49m\u001b[39m'\u001b[39;49m,\u001b[39m'\u001b[39;49m\u001b[39mMalignant(4)\u001b[39;49m\u001b[39m'\u001b[39;49m], normalize\u001b[39m=\u001b[39;49m\u001b[39mTrue\u001b[39;49;00m, title\u001b[39m=\u001b[39;49m\u001b[39m'\u001b[39;49m\u001b[39mConfusion matrix\u001b[39;49m\u001b[39m'\u001b[39;49m)\n",
      "Cell \u001b[1;32mIn[8], line 17\u001b[0m, in \u001b[0;36mplot_confusion_matrix\u001b[1;34m(cm, classes, normalize, title, cmap)\u001b[0m\n\u001b[0;32m     15\u001b[0m fmt \u001b[39m=\u001b[39m \u001b[39m'\u001b[39m\u001b[39m.2f\u001b[39m\u001b[39m'\u001b[39m \u001b[39mif\u001b[39;00m normalize \u001b[39melse\u001b[39;00m \u001b[39m'\u001b[39m\u001b[39md\u001b[39m\u001b[39m'\u001b[39m\n\u001b[0;32m     16\u001b[0m thresh \u001b[39m=\u001b[39m cm\u001b[39m.\u001b[39mmax() \u001b[39m/\u001b[39m \u001b[39m2.\u001b[39m\n\u001b[1;32m---> 17\u001b[0m \u001b[39mfor\u001b[39;00m i, j \u001b[39min\u001b[39;00m itertools\u001b[39m.\u001b[39mproduct(\u001b[39mrange\u001b[39m(cm\u001b[39m.\u001b[39mshape[\u001b[39m0\u001b[39m]), \u001b[39mrange\u001b[39m(cm\u001b[39m.\u001b[39mshape[\u001b[39m1\u001b[39m])):\n\u001b[0;32m     18\u001b[0m     plt\u001b[39m.\u001b[39mtext(j, i, \u001b[39mformat\u001b[39m(cm[i, j], fmt),\n\u001b[0;32m     19\u001b[0m              horizontalalignment \u001b[39m=\u001b[39m \u001b[39m\"\u001b[39m\u001b[39mcenter\u001b[39m\u001b[39m\"\u001b[39m,\n\u001b[0;32m     20\u001b[0m              color \u001b[39m=\u001b[39m \u001b[39m\"\u001b[39m\u001b[39mwhite\u001b[39m\u001b[39m\"\u001b[39m \u001b[39mif\u001b[39;00m cm[i, j] \u001b[39m>\u001b[39m thresh \u001b[39melse\u001b[39;00m \u001b[39m\"\u001b[39m\u001b[39mblack\u001b[39m\u001b[39m\"\u001b[39m)\n\u001b[0;32m     22\u001b[0m plt\u001b[39m.\u001b[39mtight_layout()\n",
      "\u001b[1;31mNameError\u001b[0m: name 'itertools' is not defined"
     ]
    },
    {
     "data": {
      "image/png": "[encoded data removed]",
      "text/plain": [
       "<Figure size 640x480 with 2 Axes>"
      ]
     },
     "metadata": {},
     "output_type": "display_data"
    }
   ],
   "source": [
    "# Compute confusion matrix, to evaluate the accuracy of a classification\n",
    "cnf_matrix = confusion_matrix(y_test, yhat, labels=[0,1,2,3,4])\n",
    "np.set_printoptions(precision=2)\n",
    "\n",
    "print (classification_report(y_test, yhat))\n",
    "plt.figure()\n",
    "plot_confusion_matrix(cnf_matrix, classes=['Benign(2)','Malignant(4)'], normalize=True, title='Confusion matrix')"
   ]
  }
 ],
 "metadata": {
  "kernelspec": {
   "display_name": "base",
   "language": "python",
   "name": "python3"
  },
  "language_info": {
   "codemirror_mode": {
    "name": "ipython",
    "version": 3
   },
   "file_extension": ".py",
   "mimetype": "text/x-python",
   "name": "python",
   "nbconvert_exporter": "python",
   "pygments_lexer": "ipython3",
   "version": "3.10.9"
  },
  "orig_nbformat": 4
 },
 "nbformat": 4,
 "nbformat_minor": 2
}
